{
 "cells": [
  {
   "cell_type": "code",
   "execution_count": 3,
   "id": "bf44e336-9d94-4ded-839e-36b720894eab",
   "metadata": {},
   "outputs": [],
   "source": [
    "from flask import Flask, render_template, request,jsonify\n",
    "from flask_cors import CORS,cross_origin\n",
    "import requests\n",
    "from bs4 import BeautifulSoup as bs\n",
    "from urllib.request import urlopen as uReq"
   ]
  },
  {
   "cell_type": "code",
   "execution_count": 1,
   "id": "d3d9db39-d83e-47dc-bf46-b3fea29bb1c7",
   "metadata": {},
   "outputs": [
    {
     "name": "stdout",
     "output_type": "stream",
     "text": [
      "Collecting flask\n",
      "  Downloading Flask-2.2.3-py3-none-any.whl (101 kB)\n",
      "\u001b[2K     \u001b[90m━━━━━━━━━━━━━━━━━━━━━━━━━━━━━━━━━━━━━━━\u001b[0m \u001b[32m101.8/101.8 kB\u001b[0m \u001b[31m2.4 MB/s\u001b[0m eta \u001b[36m0:00:00\u001b[0ma \u001b[36m0:00:01\u001b[0m\n",
      "\u001b[?25hCollecting itsdangerous>=2.0\n",
      "  Downloading itsdangerous-2.1.2-py3-none-any.whl (15 kB)\n",
      "Requirement already satisfied: Jinja2>=3.0 in /opt/conda/lib/python3.10/site-packages (from flask) (3.1.2)\n",
      "Collecting Werkzeug>=2.2.2\n",
      "  Downloading Werkzeug-2.2.3-py3-none-any.whl (233 kB)\n",
      "\u001b[2K     \u001b[90m━━━━━━━━━━━━━━━━━━━━━━━━━━━━━━━━━━━━━━━\u001b[0m \u001b[32m233.6/233.6 kB\u001b[0m \u001b[31m8.7 MB/s\u001b[0m eta \u001b[36m0:00:00\u001b[0m\n",
      "\u001b[?25hRequirement already satisfied: click>=8.0 in /opt/conda/lib/python3.10/site-packages (from flask) (8.1.3)\n",
      "Requirement already satisfied: MarkupSafe>=2.0 in /opt/conda/lib/python3.10/site-packages (from Jinja2>=3.0->flask) (2.1.1)\n",
      "Installing collected packages: Werkzeug, itsdangerous, flask\n",
      "Successfully installed Werkzeug-2.2.3 flask-2.2.3 itsdangerous-2.1.2\n",
      "Note: you may need to restart the kernel to use updated packages.\n"
     ]
    }
   ],
   "source": [
    "pip install flask\n"
   ]
  },
  {
   "cell_type": "code",
   "execution_count": 2,
   "id": "00fe8e9a-7eb0-4964-8bbf-736ada7635b9",
   "metadata": {},
   "outputs": [
    {
     "name": "stdout",
     "output_type": "stream",
     "text": [
      "Collecting flask_cors\n",
      "  Downloading Flask_Cors-3.0.10-py2.py3-none-any.whl (14 kB)\n",
      "Requirement already satisfied: Six in /opt/conda/lib/python3.10/site-packages (from flask_cors) (1.16.0)\n",
      "Requirement already satisfied: Flask>=0.9 in /opt/conda/lib/python3.10/site-packages (from flask_cors) (2.2.3)\n",
      "Requirement already satisfied: itsdangerous>=2.0 in /opt/conda/lib/python3.10/site-packages (from Flask>=0.9->flask_cors) (2.1.2)\n",
      "Requirement already satisfied: Jinja2>=3.0 in /opt/conda/lib/python3.10/site-packages (from Flask>=0.9->flask_cors) (3.1.2)\n",
      "Requirement already satisfied: click>=8.0 in /opt/conda/lib/python3.10/site-packages (from Flask>=0.9->flask_cors) (8.1.3)\n",
      "Requirement already satisfied: Werkzeug>=2.2.2 in /opt/conda/lib/python3.10/site-packages (from Flask>=0.9->flask_cors) (2.2.3)\n",
      "Requirement already satisfied: MarkupSafe>=2.0 in /opt/conda/lib/python3.10/site-packages (from Jinja2>=3.0->Flask>=0.9->flask_cors) (2.1.1)\n",
      "Installing collected packages: flask_cors\n",
      "Successfully installed flask_cors-3.0.10\n",
      "Note: you may need to restart the kernel to use updated packages.\n"
     ]
    }
   ],
   "source": [
    "pip install flask_cors"
   ]
  },
  {
   "cell_type": "code",
   "execution_count": 4,
   "id": "890fdaa5-4947-4ae8-baa6-185887b49d23",
   "metadata": {},
   "outputs": [],
   "source": [
    "searchstring = 'iphone11'"
   ]
  },
  {
   "cell_type": "code",
   "execution_count": 5,
   "id": "4f009149-3da4-41c9-9caa-3c716d4e9044",
   "metadata": {},
   "outputs": [],
   "source": [
    "flipkart_url = \"https://www.flipkart.com/search?q=\" + searchstring"
   ]
  },
  {
   "cell_type": "code",
   "execution_count": 6,
   "id": "82be2e8b-4a01-47dd-be5d-a2ee57649ff3",
   "metadata": {},
   "outputs": [
    {
     "data": {
      "text/plain": [
       "'https://www.flipkart.com/search?q=iphone11'"
      ]
     },
     "execution_count": 6,
     "metadata": {},
     "output_type": "execute_result"
    }
   ],
   "source": [
    "flipkart_url"
   ]
  },
  {
   "cell_type": "code",
   "execution_count": 7,
   "id": "d4a7632a-6869-4032-9b9f-35a1febe22f8",
   "metadata": {},
   "outputs": [],
   "source": [
    "uclient = uReq(flipkart_url)\n",
    "##uReq() is used to hit the url it can hit any url present in the entire world"
   ]
  },
  {
   "cell_type": "code",
   "execution_count": 8,
   "id": "a46f49ea-ee2b-4a75-8fcb-2a6e043330fc",
   "metadata": {},
   "outputs": [
    {
     "data": {
      "text/plain": [
       "<http.client.HTTPResponse at 0x7ff6f8be06a0>"
      ]
     },
     "execution_count": 8,
     "metadata": {},
     "output_type": "execute_result"
    }
   ],
   "source": [
    "uclient"
   ]
  },
  {
   "cell_type": "code",
   "execution_count": 9,
   "id": "ab67cae9-b18e-4d4c-935d-d6211437c941",
   "metadata": {},
   "outputs": [],
   "source": [
    "flipkartpage = uclient.read()\n",
    "## at first uReq is used to hit the url then\n",
    "##this uclient.read() is used to read the entire html source code of the respected url that i passed"
   ]
  },
  {
   "cell_type": "code",
   "execution_count": 10,
   "id": "949b8f65-86e9-47bb-9d5d-54b4d72913f2",
   "metadata": {},
   "outputs": [],
   "source": [
    "uclient.close()\n",
    "#afte3r opening the uclient by read and after reading or copying the source code we can close it after work done"
   ]
  },
  {
   "cell_type": "code",
   "execution_count": 11,
   "id": "ae6e3ddb-7109-482a-b590-d55e309baa1c",
   "metadata": {},
   "outputs": [],
   "source": [
    "flipkart_html = bs(flipkartpage , 'html.parser')\n",
    "## IT IS just to beautify the code by which it is easier to read"
   ]
  },
  {
   "cell_type": "code",
   "execution_count": 12,
   "id": "e6fc61cd-9515-410d-a1db-651b42bf7786",
   "metadata": {},
   "outputs": [],
   "source": [
    "# 'https://www.flipkart.com/apple-iphone-11-white-128-gb/p/itme32df47ea6742?pid=MOBFWQ6B7KKRXDDS&lid=LSTMOBFWQ6B7KKRXDDSULUZ0N&marketplace=FLIPKART&q=iphon"
   ]
  },
  {
   "cell_type": "code",
   "execution_count": 13,
   "id": "945a8336-7fbc-41f2-a828-503716789931",
   "metadata": {},
   "outputs": [],
   "source": [
    "bigboxes = flipkart_html.findAll(\"div\" , {\"class\" : \"_1AtVbE col-12-12\"})\n",
    "## here we store informations of all the div classes of mobiles information with div and inside div by , the class  and its class name \n",
    "# as key value pair"
   ]
  },
  {
   "cell_type": "code",
   "execution_count": 14,
   "id": "d42cbfc4-13ec-454e-9473-7533bfac8b2f",
   "metadata": {},
   "outputs": [
    {
     "data": {
      "text/plain": [
       "30"
      ]
     },
     "execution_count": 14,
     "metadata": {},
     "output_type": "execute_result"
    }
   ],
   "source": [
    "len(bigboxes)\n",
    "# there are 30 boxes which we fetched"
   ]
  },
  {
   "cell_type": "code",
   "execution_count": 15,
   "id": "c72b3b58-4478-4936-bead-d70a0d51c2b1",
   "metadata": {},
   "outputs": [],
   "source": [
    "box = bigboxes[2]\n",
    "## it is the one of the box"
   ]
  },
  {
   "cell_type": "code",
   "execution_count": 16,
   "id": "c3870aa5-7690-4c79-8834-b0233cf4ce63",
   "metadata": {},
   "outputs": [],
   "source": [
    " # box.div.div.div.a['href']\n",
    "##this is the link whicih we extract to go and hit the main page of mobile it is a hyperlink whici we are gona attach with concat\n",
    "#wiht flipkart link"
   ]
  },
  {
   "cell_type": "code",
   "execution_count": 17,
   "id": "26119b6b-c413-4c89-9542-c1a6ebb94ce3",
   "metadata": {},
   "outputs": [],
   "source": [
    "# 'https://www.flipkart.com/apple-iphone-11-white-128-gb/p/itme32df47ea6742?pid=MOBFWQ6B7KKRXDDS&lid=LSTMOBFWQ6B7KKRXDDSULUZ0N&marketplace=FLIPKART&q=iphone11&store=tyy%2F4io&srno=s_1_1&otracker=search&iid=1a7d6e12-960f-485c-8380-2cb8dc49a077.MOBFWQ6B7KKRXDDS.SEARCH&ssid=vuttur3d740000001676109727214&qH=d6db477051465f9a'\n",
    "# ## complete hyperlink for a mobile page"
   ]
  },
  {
   "cell_type": "code",
   "execution_count": 18,
   "id": "ee02936e-2c77-4943-a679-07ea3adc7222",
   "metadata": {},
   "outputs": [],
   "source": [
    "productlink = 'https://www.flipkart.com'+box.div.div.div.a['href']"
   ]
  },
  {
   "cell_type": "code",
   "execution_count": 19,
   "id": "0f7a4cad-2590-48f1-a07c-98f555908195",
   "metadata": {},
   "outputs": [
    {
     "data": {
      "text/plain": [
       "'https://www.flipkart.com/apple-iphone-11-white-64-gb/p/itmfc6a7091eb20b?pid=MOBFWQ6BVWVEH3XE&lid=LSTMOBFWQ6BVWVEH3XEMXQMLO&marketplace=FLIPKART&q=iphone11&store=tyy%2F4io&srno=s_1_1&otracker=search&fm=organic&iid=c399a908-a2f9-450f-ae11-8429560346dd.MOBFWQ6BVWVEH3XE.SEARCH&ppt=None&ppn=None&ssid=izwq0c9ow00000001678730298120&qH=d6db477051465f9a'"
      ]
     },
     "execution_count": 19,
     "metadata": {},
     "output_type": "execute_result"
    }
   ],
   "source": [
    "productlink"
   ]
  },
  {
   "cell_type": "code",
   "execution_count": 20,
   "id": "f968a795-9548-4764-9c21-9369542ae29a",
   "metadata": {},
   "outputs": [],
   "source": [
    "productreq = requests.get(productlink)\n",
    "##now we have assigned the link with the request"
   ]
  },
  {
   "cell_type": "code",
   "execution_count": 21,
   "id": "b9e17876-f908-4620-8a2d-1a25b9d32e62",
   "metadata": {},
   "outputs": [
    {
     "data": {
      "text/plain": [
       "<Response [200]>"
      ]
     },
     "execution_count": 21,
     "metadata": {},
     "output_type": "execute_result"
    }
   ],
   "source": [
    "productreq"
   ]
  },
  {
   "cell_type": "code",
   "execution_count": 22,
   "id": "58b03b9c-b0f3-43ed-a1fa-54d0e540ff78",
   "metadata": {},
   "outputs": [],
   "source": [
    "prod_html = bs(productreq.text , 'html.parser')\n",
    "##product ki link leli an usko get request dedi aur fir uske .text kerke andr ka source code lelia aur beautify kerke prod_html me stroe kr dia"
   ]
  },
  {
   "cell_type": "code",
   "execution_count": 23,
   "id": "2f4703f6-8aab-4bc3-84c6-2365ad30a2b9",
   "metadata": {},
   "outputs": [],
   "source": [
    "comment_box = prod_html.findAll('div' , {'class' : '_16PBlm'})"
   ]
  },
  {
   "cell_type": "code",
   "execution_count": 24,
   "id": "32ea223a-4040-490e-a1b2-c6aee0d5de98",
   "metadata": {},
   "outputs": [
    {
     "data": {
      "text/plain": [
       "11"
      ]
     },
     "execution_count": 24,
     "metadata": {},
     "output_type": "execute_result"
    }
   ],
   "source": [
    "len(comment_box)"
   ]
  },
  {
   "cell_type": "code",
   "execution_count": 25,
   "id": "0e6ee4f4-6be6-4bdb-a22c-0bf6b8deed30",
   "metadata": {},
   "outputs": [
    {
     "name": "stdout",
     "output_type": "stream",
     "text": [
      "5\n",
      "5\n",
      "5\n",
      "4\n",
      "5\n",
      "5\n",
      "5\n",
      "5\n",
      "4\n",
      "5\n"
     ]
    },
    {
     "ename": "AttributeError",
     "evalue": "'NoneType' object has no attribute 'div'",
     "output_type": "error",
     "traceback": [
      "\u001b[0;31m---------------------------------------------------------------------------\u001b[0m",
      "\u001b[0;31mAttributeError\u001b[0m                            Traceback (most recent call last)",
      "Cell \u001b[0;32mIn [25], line 2\u001b[0m\n\u001b[1;32m      1\u001b[0m \u001b[38;5;28;01mfor\u001b[39;00m i \u001b[38;5;129;01min\u001b[39;00m comment_box :\n\u001b[0;32m----> 2\u001b[0m     \u001b[38;5;28mprint\u001b[39m(\u001b[43mi\u001b[49m\u001b[38;5;241;43m.\u001b[39;49m\u001b[43mdiv\u001b[49m\u001b[38;5;241;43m.\u001b[39;49m\u001b[43mdiv\u001b[49m\u001b[38;5;241m.\u001b[39mdiv\u001b[38;5;241m.\u001b[39mdiv\u001b[38;5;241m.\u001b[39mtext)\n",
      "\u001b[0;31mAttributeError\u001b[0m: 'NoneType' object has no attribute 'div'"
     ]
    }
   ],
   "source": [
    "for i in comment_box :\n",
    "    print(i.div.div.div.div.text)"
   ]
  },
  {
   "cell_type": "code",
   "execution_count": 36,
   "id": "c0a1a978-59db-4d9e-8944-90812d0d51f3",
   "metadata": {},
   "outputs": [
    {
     "data": {
      "text/plain": [
       "'Amazing phone with great cameras and better battery which gives you the best performance. I just love the camera .'"
      ]
     },
     "execution_count": 36,
     "metadata": {},
     "output_type": "execute_result"
    }
   ],
   "source": [
    "comment_box[1].div.div.find_all(\"div\" , {\"class\" : \"\"})[0].div.text\n",
    "##this is how we get into div into div into div and then into there text "
   ]
  },
  {
   "cell_type": "code",
   "execution_count": 39,
   "id": "12e652e7-8ab6-4330-8270-e2ddc1db7021",
   "metadata": {},
   "outputs": [
    {
     "name": "stdout",
     "output_type": "stream",
     "text": [
      "Really satisfied with the Product I received... It’s totally genuine and the packaging was also really good so if ur planning to buy just go for it.\n",
      "\n",
      "\n",
      "Amazing phone with great cameras and better battery which gives you the best performance. I just love the camera .\n",
      "\n",
      "\n",
      "Great iPhone very snappy experience as apple kind. Upgraded from iPhone 7. Pros-Camera top class - Battery top performed -Chipset no need to say as apple kind -Security as you expect from apple - Display super bright industry leading colour   accuracy and super responsive -Build quality as expect from apple sturdy  premium durable beautiful stylish. -Os most stable os in smartphone industry Cons -No 5G-Display is not based on OLED technology -Charger headphones and 1 apple stic...\n",
      "\n",
      "\n",
      "I'm Really happy with the productDelivery was fast as well..it was a gift for my sister and she loved it so much.\n",
      "\n",
      "\n",
      "It's my first time to use iOS phone and I am loving my upgradation 😍😍 I love the color, I love the assebility of the phone....I need to learn more about its functionality, but as far as I have seen, it's quite easy and it has a lot of functions to work on, specially if you are a content writer or a blogger you get a lot of content creation platforms and they are really amazing. This phone not only for good quality photography but a lot of other task too.😍💯\n",
      "\n",
      "\n",
      "Previously I was using one plus 3t it was a great phone And then I decided to upgrade I am stuck between Samsung s10 plus or iPhone 11 I have seen the specs and everything were good except the display it’s somewhere between 720-1080 and it’s not even an amoled it’s an LCD display But I decided to go with iPhone because I have never used an IOS device I have Been an android user from the past 9 years I ordered IPhone 11 (128gb) product redMy experience after using 3 weeks 1. The delivery ...\n",
      "\n",
      "\n",
      "Value for money5 star rating Excellent cameraBattery backup full day in single charge.Tougher and water resistant design, glossy back.The screen has excellent brightness and contrast.Apple A13 Bionic is the fastest smartphone chip on the planet.Excellent battery life, fast charging support.Stereo speakers with great quality.\n",
      "\n",
      "\n",
      "What a camera .....just awesome ..you can feel this iPhone just awesome . Good for gaming also ...try pubg in hd it’s just wow\n",
      "\n",
      "\n",
      "I was using Iphone 6s and also Oneplus 6t. Both mobiles were perfectly alright in Photos, gaming, and smooth interface . My 6s mobile getting battery issue. thought upgrade to 11. Really like this mobile of its Internal storage (compare to 6s) , camera and its touch feeling. Its a worth buying mobile for me.\n",
      "\n",
      "\n",
      "Amazing Powerful and Durable Gadget.I’m am very happy with the camera picture quality, Amazing face id unlocked in dark room, Strong battery with perfect screen size as you can carry easily in pocket. This is my third iPhone. I shifted from android Samsung Note series to iPhone because of the strong build quality and peace of mind for next 3-4 years.Don’t think to much just go for it and I suggest you to go for minimum 128gb variant or more 256gb. I’ve attached my puppy pics and no fi...\n",
      "\n",
      "\n"
     ]
    },
    {
     "ename": "AttributeError",
     "evalue": "'NoneType' object has no attribute 'div'",
     "output_type": "error",
     "traceback": [
      "\u001b[0;31m---------------------------------------------------------------------------\u001b[0m",
      "\u001b[0;31mAttributeError\u001b[0m                            Traceback (most recent call last)",
      "Cell \u001b[0;32mIn [39], line 2\u001b[0m\n\u001b[1;32m      1\u001b[0m \u001b[38;5;28;01mfor\u001b[39;00m i \u001b[38;5;129;01min\u001b[39;00m comment_box:\n\u001b[0;32m----> 2\u001b[0m     \u001b[38;5;28mprint\u001b[39m(\u001b[43mi\u001b[49m\u001b[38;5;241;43m.\u001b[39;49m\u001b[43mdiv\u001b[49m\u001b[38;5;241;43m.\u001b[39;49m\u001b[43mdiv\u001b[49m\u001b[38;5;241m.\u001b[39mfind_all(\u001b[38;5;124m\"\u001b[39m\u001b[38;5;124mdiv\u001b[39m\u001b[38;5;124m\"\u001b[39m , {\u001b[38;5;124m\"\u001b[39m\u001b[38;5;124mclass\u001b[39m\u001b[38;5;124m\"\u001b[39m : \u001b[38;5;124m\"\u001b[39m\u001b[38;5;124m\"\u001b[39m})[\u001b[38;5;241m0\u001b[39m]\u001b[38;5;241m.\u001b[39mdiv\u001b[38;5;241m.\u001b[39mtext)\n\u001b[1;32m      3\u001b[0m     \u001b[38;5;28mprint\u001b[39m(\u001b[38;5;124m\"\u001b[39m\u001b[38;5;130;01m\\n\u001b[39;00m\u001b[38;5;124m\"\u001b[39m)\n",
      "\u001b[0;31mAttributeError\u001b[0m: 'NoneType' object has no attribute 'div'"
     ]
    }
   ],
   "source": [
    "for i in comment_box:\n",
    "    print(i.div.div.find_all(\"div\" , {\"class\" : \"\"})[0].div.text)\n",
    "    print(\"\\n\")\n",
    "    "
   ]
  },
  {
   "cell_type": "code",
   "execution_count": 49,
   "id": "285efa2a-7f5b-4b27-931b-b67030b91737",
   "metadata": {},
   "outputs": [
    {
     "data": {
      "text/plain": [
       "'George Haokip'"
      ]
     },
     "execution_count": 49,
     "metadata": {},
     "output_type": "execute_result"
    }
   ],
   "source": [
    "comment_box[3].div.div.find_all('p' , {'class' : '_2sc7ZR _2V5EHH'})[0].text\n",
    "##this is how i extract each and evry name of the person who comment"
   ]
  },
  {
   "cell_type": "code",
   "execution_count": 50,
   "id": "f366fb92-3e51-4bf5-b520-2245b1967872",
   "metadata": {},
   "outputs": [
    {
     "name": "stdout",
     "output_type": "stream",
     "text": [
      "Flipkart Customer\n",
      "Flipkart Customer\n",
      "Manish Raghuvanshi\n",
      "George Haokip\n",
      "Jimly  Gogoi\n",
      "Vamshi  Chakrala \n",
      "Chirag Rajput\n",
      "Vishal Dubey\n",
      "vijay hegde\n",
      "Rahul Verma\n"
     ]
    },
    {
     "ename": "AttributeError",
     "evalue": "'NoneType' object has no attribute 'div'",
     "output_type": "error",
     "traceback": [
      "\u001b[0;31m---------------------------------------------------------------------------\u001b[0m",
      "\u001b[0;31mAttributeError\u001b[0m                            Traceback (most recent call last)",
      "Cell \u001b[0;32mIn [50], line 2\u001b[0m\n\u001b[1;32m      1\u001b[0m \u001b[38;5;28;01mfor\u001b[39;00m i \u001b[38;5;129;01min\u001b[39;00m comment_box:\n\u001b[0;32m----> 2\u001b[0m     \u001b[38;5;28mprint\u001b[39m(\u001b[43mi\u001b[49m\u001b[38;5;241;43m.\u001b[39;49m\u001b[43mdiv\u001b[49m\u001b[38;5;241;43m.\u001b[39;49m\u001b[43mdiv\u001b[49m\u001b[38;5;241m.\u001b[39mfind_all(\u001b[38;5;124m\"\u001b[39m\u001b[38;5;124mp\u001b[39m\u001b[38;5;124m\"\u001b[39m , {\u001b[38;5;124m\"\u001b[39m\u001b[38;5;124mclass\u001b[39m\u001b[38;5;124m\"\u001b[39m : \u001b[38;5;124m\"\u001b[39m\u001b[38;5;124m_2sc7ZR _2V5EHH\u001b[39m\u001b[38;5;124m\"\u001b[39m})[\u001b[38;5;241m0\u001b[39m]\u001b[38;5;241m.\u001b[39mtext)\n",
      "\u001b[0;31mAttributeError\u001b[0m: 'NoneType' object has no attribute 'div'"
     ]
    }
   ],
   "source": [
    "for i in comment_box:\n",
    "    print(i.div.div.find_all(\"p\" , {\"class\" : \"_2sc7ZR _2V5EHH\"})[0].text)"
   ]
  },
  {
   "cell_type": "code",
   "execution_count": null,
   "id": "bd3ff4bc-ade3-4803-bd1c-d6ea72b98382",
   "metadata": {},
   "outputs": [],
   "source": []
  },
  {
   "cell_type": "code",
   "execution_count": null,
   "id": "34a204eb-efec-4465-8606-ca843b51e845",
   "metadata": {},
   "outputs": [],
   "source": []
  },
  {
   "cell_type": "code",
   "execution_count": null,
   "id": "2d535d6c-e7c3-4926-9c69-8f0614fdc2d3",
   "metadata": {},
   "outputs": [],
   "source": []
  },
  {
   "cell_type": "code",
   "execution_count": null,
   "id": "c2e69533-bd31-4c45-b061-67616f670a17",
   "metadata": {},
   "outputs": [],
   "source": []
  },
  {
   "cell_type": "code",
   "execution_count": null,
   "id": "30c832e0-c0ff-45e1-82f7-eed4db6120b7",
   "metadata": {},
   "outputs": [],
   "source": []
  },
  {
   "cell_type": "code",
   "execution_count": null,
   "id": "4d5a13b4-b29e-4af4-b6ac-88e07453c02d",
   "metadata": {},
   "outputs": [],
   "source": []
  },
  {
   "cell_type": "code",
   "execution_count": null,
   "id": "e1fdf8e6-76bb-4294-8bda-45d092a703eb",
   "metadata": {},
   "outputs": [],
   "source": []
  },
  {
   "cell_type": "code",
   "execution_count": null,
   "id": "4c126803-dd3d-470a-b156-8ff9212c275a",
   "metadata": {},
   "outputs": [],
   "source": []
  },
  {
   "cell_type": "code",
   "execution_count": null,
   "id": "c60b64ef-9fa7-4d35-b61c-d91db0b90416",
   "metadata": {},
   "outputs": [],
   "source": []
  },
  {
   "cell_type": "code",
   "execution_count": null,
   "id": "1cec7a86-98ce-4255-9a04-e5e27bd44f1a",
   "metadata": {},
   "outputs": [],
   "source": []
  },
  {
   "cell_type": "code",
   "execution_count": null,
   "id": "5d0f682b-dbf3-41b1-8574-1ceeb275cc01",
   "metadata": {},
   "outputs": [],
   "source": []
  },
  {
   "cell_type": "code",
   "execution_count": null,
   "id": "186a110c-9842-400f-8418-c3f4445d5fc0",
   "metadata": {},
   "outputs": [],
   "source": []
  },
  {
   "cell_type": "code",
   "execution_count": null,
   "id": "27fd800e-0fed-4441-bb70-e7f5a8c0a01a",
   "metadata": {},
   "outputs": [],
   "source": []
  },
  {
   "cell_type": "code",
   "execution_count": null,
   "id": "ca5c7694-f000-4874-a4a6-56c2115e4530",
   "metadata": {},
   "outputs": [],
   "source": []
  },
  {
   "cell_type": "code",
   "execution_count": null,
   "id": "b2470f9f-1dee-4042-aed1-853335f8c36b",
   "metadata": {},
   "outputs": [],
   "source": []
  },
  {
   "cell_type": "code",
   "execution_count": null,
   "id": "fe800793-c5bb-4583-86a9-73980f3de24d",
   "metadata": {},
   "outputs": [],
   "source": []
  },
  {
   "cell_type": "code",
   "execution_count": null,
   "id": "cefbe5a0-2d35-435c-b48e-571b3f55f54e",
   "metadata": {},
   "outputs": [],
   "source": []
  },
  {
   "cell_type": "code",
   "execution_count": null,
   "id": "7f6e6bd0-6440-42fc-ba42-6f8af2545b78",
   "metadata": {},
   "outputs": [],
   "source": []
  },
  {
   "cell_type": "code",
   "execution_count": null,
   "id": "7a16f7f4-baa0-483c-8f40-62116e4368d3",
   "metadata": {},
   "outputs": [],
   "source": []
  },
  {
   "cell_type": "code",
   "execution_count": null,
   "id": "a19fcf08-156c-407a-848b-f82bec429b6d",
   "metadata": {},
   "outputs": [],
   "source": []
  },
  {
   "cell_type": "code",
   "execution_count": null,
   "id": "05b9ed85-9f9a-4745-a480-9b36bda35fbd",
   "metadata": {},
   "outputs": [],
   "source": []
  }
 ],
 "metadata": {
  "kernelspec": {
   "display_name": "Python 3 (ipykernel)",
   "language": "python",
   "name": "python3"
  },
  "language_info": {
   "codemirror_mode": {
    "name": "ipython",
    "version": 3
   },
   "file_extension": ".py",
   "mimetype": "text/x-python",
   "name": "python",
   "nbconvert_exporter": "python",
   "pygments_lexer": "ipython3",
   "version": "3.10.6"
  }
 },
 "nbformat": 4,
 "nbformat_minor": 5
}
